{
  "nbformat": 4,
  "nbformat_minor": 0,
  "metadata": {
    "colab": {
      "provenance": []
    },
    "kernelspec": {
      "name": "python3",
      "display_name": "Python 3"
    },
    "language_info": {
      "name": "python"
    }
  },
  "cells": [
    {
      "cell_type": "markdown",
      "source": [
        "**I have used YOLOV8  pretrained model and I have done the inference to detect the object in vedio .**\n",
        "\n",
        "We can do same thing  by reading frames from vedio and prepocessing , annotations, augmentations steps need to follw after compleation of the data set creation we can train using yolov8 and we can evaluate and testing can compleated .  I know data set creation and traing , evaluation ,testing and deployement end to end project .And I have provided detected vedio please refer ."
      ],
      "metadata": {
        "id": "LzFaGIzlA8zk"
      }
    },
    {
      "cell_type": "code",
      "execution_count": null,
      "metadata": {
        "id": "anVd8adSAwbK"
      },
      "outputs": [],
      "source": [
        "import os\n",
        "import cv2\n",
        "from ultralytics import YOLO\n",
        "\n",
        "# Load the YOLOv8 model\n",
        "model = YOLO('yolov8n.pt')\n",
        "\n",
        "# Run video inference\n",
        "results = model.predict(source='/content/downloaded_video.mp4', save=True, save_txt=True)\n",
        "\n",
        "# Create directory to save individual frames\n",
        "output_dir = 'runs/predict/exp/frames/'\n",
        "os.makedirs(output_dir, exist_ok=True)\n",
        "\n",
        "# Save each frame as an image\n",
        "for i, result in enumerate(results):\n",
        "    frame = result.orig_img  # Original frame\n",
        "    frame_path = f\"{output_dir}/frame_{i:05d}.jpg\"\n",
        "    cv2.imwrite(frame_path, frame)  # Save the frame\n"
      ]
    },
    {
      "cell_type": "markdown",
      "source": [],
      "metadata": {
        "id": "lvFnk78zA6fY"
      }
    }
  ]
}