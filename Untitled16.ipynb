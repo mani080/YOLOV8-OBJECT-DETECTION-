**Using Custom Dataset YoloV8 Training: I have created a dataset using youtube vedio by taking 1 frame per second (FPS)**





import cv2
import os

# Path to the video file
video_path = '/content/downloaded_video.mp4'

# Create a directory to save frames
output_dir = 'frames_Size_416'
os.makedirs(output_dir, exist_ok=True)

# Desired frame size
desired_size = (416, 416)  # width, height

# Open the video file
cap = cv2.VideoCapture(video_path)

# Check if the video file opened successfully
if not cap.isOpened():
    print("Error: Could not open video.")
    exit()

# Get the original FPS of the video
original_fps = cap.get(cv2.CAP_PROP_FPS)
print(f"Original FPS of the video: {original_fps}")

# Desired frame rate (frames per second)
target_fps = 1

# Calculate the frame interval
frame_interval = int(original_fps / target_fps)

# Initialize frame number
frame_number = 0
saved_frame_number = 0

while True:
    # Read frame by frame
    ret, frame = cap.read()
    if not ret:
        break  # End of video

    # Save only every nth frame according to the frame interval
    if frame_number % frame_interval == 0:
        # Resize the frame
        resized_frame = cv2.resize(frame, desired_size)

        # Save the resized frame
        frame_filename = os.path.join(output_dir, f'frame_{saved_frame_number:04d}.jpg')
        cv2.imwrite(frame_filename, resized_frame)

        # Print the progress (optional)
        print(f'Saved {frame_filename}')

        saved_frame_number += 1

    frame_number += 1

# Release the video capture object
cap.release()
print(f"Total number of frames processed: {saved_frame_number}")
print(f"Frames saved in directory: {output_dir}")


Frames_Size_416 folder making as ZIP file and downloading that

import shutil

# Path to the folder you want to download
folder_path = '/content/frames_Size_416'

# Path where the zip file will be saved
zip_path = '/content/your_folder.zip'

# Create a zip file
shutil.make_archive('/content/your_folder', 'zip', folder_path)


After downloading the dataset to local I have annotated the data set and applied some techniques as well for model genaralization after that I have used pretrained weights using those weihghts i have trained my model.

pip install ultralytics

import zipfile
from google.colab import drive
drive.mount('/content/drive/', force_remount=True)
zip_ref = zipfile.ZipFile("/content/YOLODataset.zip", 'r')
print(zip_ref)
zip_ref.extractall("/tmp")
zip_ref.close()

!unzip "/content/YOLODataset.zip"

Traing my dataset using YOLOV8

from ultralytics import YOLO

# Load a model
model = YOLO('yolov8n.yaml')  # build a new model from YAML
model = YOLO('yolov8n.pt')  # load a pretrained model (recommended for training)
model = YOLO('yolov8n.yaml').load('/yolov8n.pt')  # build from YAML and transfer weights

# Train the model
results = model.train(data= '/content/dataset.yaml', epochs=50, imgsz=640)

I have inferenced the youtube vedio using my** best.pt** 

import os
import cv2
from ultralytics import YOLO

# Load the YOLOv8 model
model = YOLO('/content/runs/detect/train/weights/best.pt')

# Run video inference
results = model.predict(source='/content/downloaded_video.mp4', save=True, save_txt=True, save_conf=True)

# Create directories to save individual frames and bounding box coordinates
output_dir = 'runs/predict/exp/frames/'
os.makedirs(output_dir, exist_ok=True)

# Video capture object to retrieve frames per second (fps) information
video_capture = cv2.VideoCapture('/content/downloaded_video.mp4')
fps = video_capture.get(cv2.CAP_PROP_FPS)
frame_interval = int(fps)  # Save 1 frame per second

# Save each frame at 1 FPS and save bounding box coordinates
for i, result in enumerate(results):
    if i % frame_interval == 0:  # Save only one frame per second
        frame = result.orig_img  # Original frame
        frame_path = f"{output_dir}/frame_{i:05d}.jpg"
        cv2.imwrite(frame_path, frame)  # Save the frame

        # Save bounding box coordinates
        bbox_dir = f"{output_dir}/bbox/"
        os.makedirs(bbox_dir, exist_ok=True)
        bbox_path = f"{bbox_dir}/frame_{i:05d}.txt"
        with open(bbox_path, 'w') as f:
            for box in result.boxes.xywh:
                x_center, y_center, width, height = box[:4]
                class_id = int(box[4]) if len(box) > 4 else 0  # Assuming class_id is at index 4
                f.write(f"{class_id} {x_center} {y_center} {width} {height}\n")


import shutil

shutil.make_archive('folder_name', 'zip', '/content/runs')


from google.colab import files

files.download('folder_name.zip')


